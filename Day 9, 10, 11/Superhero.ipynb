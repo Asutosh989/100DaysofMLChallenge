{
 "cells": [
  {
   "cell_type": "code",
   "execution_count": 1,
   "metadata": {
    "collapsed": true
   },
   "outputs": [],
   "source": [
    "import pandas as pd\n",
    "import numpy as np\n",
    "import matplotlib.pyplot as plt\n",
    "import seaborn as sns\n",
    "import plotly.plotly as ply\n",
    "import plotly.offline as py\n",
    "color = sns.color_palette()\n",
    "import plotly.graph_objs as go\n",
    "from plotly import tools\n",
    "%matplotlib inline"
   ]
  },
  {
   "cell_type": "code",
   "execution_count": 2,
   "metadata": {},
   "outputs": [
    {
     "data": {
      "text/html": [
       "<script>requirejs.config({paths: { 'plotly': ['https://cdn.plot.ly/plotly-latest.min']},});if(!window.Plotly) {{require(['plotly'],function(plotly) {window.Plotly=plotly;});}}</script>"
      ],
      "text/vnd.plotly.v1+html": [
       "<script>requirejs.config({paths: { 'plotly': ['https://cdn.plot.ly/plotly-latest.min']},});if(!window.Plotly) {{require(['plotly'],function(plotly) {window.Plotly=plotly;});}}</script>"
      ]
     },
     "metadata": {},
     "output_type": "display_data"
    }
   ],
   "source": [
    "py.init_notebook_mode(connected=True)\n",
    "import warnings\n",
    "warnings.filterwarnings('ignore')"
   ]
  },
  {
   "cell_type": "code",
   "execution_count": 3,
   "metadata": {
    "collapsed": true
   },
   "outputs": [],
   "source": [
    "# load the superhero information data\n",
    "superhero_info = pd.read_csv('../data/superhero/heroes_information.csv')"
   ]
  },
  {
   "cell_type": "code",
   "execution_count": 4,
   "metadata": {
    "collapsed": true
   },
   "outputs": [],
   "source": [
    "# loading superhero power data\n",
    "superhero_power = pd.read_csv('../data/superhero/super_hero_powers.csv')"
   ]
  },
  {
   "cell_type": "code",
   "execution_count": 5,
   "metadata": {
    "collapsed": true
   },
   "outputs": [],
   "source": [
    "superhero_info.drop(superhero_info.columns[0], axis=1, inplace=True)"
   ]
  },
  {
   "cell_type": "code",
   "execution_count": 6,
   "metadata": {},
   "outputs": [
    {
     "data": {
      "text/html": [
       "<div>\n",
       "<style>\n",
       "    .dataframe thead tr:only-child th {\n",
       "        text-align: right;\n",
       "    }\n",
       "\n",
       "    .dataframe thead th {\n",
       "        text-align: left;\n",
       "    }\n",
       "\n",
       "    .dataframe tbody tr th {\n",
       "        vertical-align: top;\n",
       "    }\n",
       "</style>\n",
       "<table border=\"1\" class=\"dataframe\">\n",
       "  <thead>\n",
       "    <tr style=\"text-align: right;\">\n",
       "      <th></th>\n",
       "      <th>name</th>\n",
       "      <th>Gender</th>\n",
       "      <th>Eye color</th>\n",
       "      <th>Race</th>\n",
       "      <th>Hair color</th>\n",
       "      <th>Height</th>\n",
       "      <th>Publisher</th>\n",
       "      <th>Skin color</th>\n",
       "      <th>Alignment</th>\n",
       "      <th>Weight</th>\n",
       "    </tr>\n",
       "  </thead>\n",
       "  <tbody>\n",
       "    <tr>\n",
       "      <th>0</th>\n",
       "      <td>A-Bomb</td>\n",
       "      <td>Male</td>\n",
       "      <td>yellow</td>\n",
       "      <td>Human</td>\n",
       "      <td>No Hair</td>\n",
       "      <td>203.0</td>\n",
       "      <td>Marvel Comics</td>\n",
       "      <td>-</td>\n",
       "      <td>good</td>\n",
       "      <td>441.0</td>\n",
       "    </tr>\n",
       "    <tr>\n",
       "      <th>1</th>\n",
       "      <td>Abe Sapien</td>\n",
       "      <td>Male</td>\n",
       "      <td>blue</td>\n",
       "      <td>Icthyo Sapien</td>\n",
       "      <td>No Hair</td>\n",
       "      <td>191.0</td>\n",
       "      <td>Dark Horse Comics</td>\n",
       "      <td>blue</td>\n",
       "      <td>good</td>\n",
       "      <td>65.0</td>\n",
       "    </tr>\n",
       "    <tr>\n",
       "      <th>2</th>\n",
       "      <td>Abin Sur</td>\n",
       "      <td>Male</td>\n",
       "      <td>blue</td>\n",
       "      <td>Ungaran</td>\n",
       "      <td>No Hair</td>\n",
       "      <td>185.0</td>\n",
       "      <td>DC Comics</td>\n",
       "      <td>red</td>\n",
       "      <td>good</td>\n",
       "      <td>90.0</td>\n",
       "    </tr>\n",
       "    <tr>\n",
       "      <th>3</th>\n",
       "      <td>Abomination</td>\n",
       "      <td>Male</td>\n",
       "      <td>green</td>\n",
       "      <td>Human / Radiation</td>\n",
       "      <td>No Hair</td>\n",
       "      <td>203.0</td>\n",
       "      <td>Marvel Comics</td>\n",
       "      <td>-</td>\n",
       "      <td>bad</td>\n",
       "      <td>441.0</td>\n",
       "    </tr>\n",
       "    <tr>\n",
       "      <th>4</th>\n",
       "      <td>Abraxas</td>\n",
       "      <td>Male</td>\n",
       "      <td>blue</td>\n",
       "      <td>Cosmic Entity</td>\n",
       "      <td>Black</td>\n",
       "      <td>-99.0</td>\n",
       "      <td>Marvel Comics</td>\n",
       "      <td>-</td>\n",
       "      <td>bad</td>\n",
       "      <td>-99.0</td>\n",
       "    </tr>\n",
       "  </tbody>\n",
       "</table>\n",
       "</div>"
      ],
      "text/plain": [
       "          name Gender Eye color               Race Hair color  Height  \\\n",
       "0       A-Bomb   Male    yellow              Human    No Hair   203.0   \n",
       "1   Abe Sapien   Male      blue      Icthyo Sapien    No Hair   191.0   \n",
       "2     Abin Sur   Male      blue            Ungaran    No Hair   185.0   \n",
       "3  Abomination   Male     green  Human / Radiation    No Hair   203.0   \n",
       "4      Abraxas   Male      blue      Cosmic Entity      Black   -99.0   \n",
       "\n",
       "           Publisher Skin color Alignment  Weight  \n",
       "0      Marvel Comics          -      good   441.0  \n",
       "1  Dark Horse Comics       blue      good    65.0  \n",
       "2          DC Comics        red      good    90.0  \n",
       "3      Marvel Comics          -       bad   441.0  \n",
       "4      Marvel Comics          -       bad   -99.0  "
      ]
     },
     "execution_count": 6,
     "metadata": {},
     "output_type": "execute_result"
    }
   ],
   "source": [
    "superhero_info.head()"
   ]
  },
  {
   "cell_type": "markdown",
   "metadata": {},
   "source": [
    "### Playing with hero information"
   ]
  },
  {
   "cell_type": "code",
   "execution_count": 7,
   "metadata": {
    "collapsed": true
   },
   "outputs": [],
   "source": [
    "publish = superhero_info['Publisher'].value_counts()"
   ]
  },
  {
   "cell_type": "code",
   "execution_count": 8,
   "metadata": {},
   "outputs": [
    {
     "data": {
      "text/html": [
       "<iframe id=\"igraph\" scrolling=\"no\" style=\"border:none;\" seamless=\"seamless\" src=\"https://plot.ly/~Asutosh989/11.embed\" height=\"700px\" width=\"700px\"></iframe>"
      ],
      "text/plain": [
       "<plotly.tools.PlotlyDisplay object>"
      ]
     },
     "execution_count": 8,
     "metadata": {},
     "output_type": "execute_result"
    }
   ],
   "source": [
    "trace = go.Pie(labels=list(publish.keys()), values=list(publish), hole=0.4)\n",
    "layout = go.Layout(\n",
    "    title='Publications Distributions (Comic wise)',\n",
    "    height=700,\n",
    "    width=700\n",
    ")\n",
    "data = [trace]\n",
    "fig = go.Figure(data=data, layout=layout)\n",
    "ply.iplot(fig, filename='Comic_wise_distribution')"
   ]
  },
  {
   "cell_type": "markdown",
   "metadata": {},
   "source": [
    "Number of Super heroes in DC and Marvel universe seem to be more than any other comics. Lets plot a pie chart for it"
   ]
  },
  {
   "cell_type": "code",
   "execution_count": 9,
   "metadata": {
    "collapsed": true
   },
   "outputs": [],
   "source": [
    "publisher = pd.DataFrame({\n",
    "    'type': publish.index,\n",
    "    'value': publish.values\n",
    "})"
   ]
  },
  {
   "cell_type": "code",
   "execution_count": 10,
   "metadata": {},
   "outputs": [
    {
     "data": {
      "text/html": [
       "<iframe id=\"igraph\" scrolling=\"no\" style=\"border:none;\" seamless=\"seamless\" src=\"https://plot.ly/~Asutosh989/13.embed\" height=\"700px\" width=\"700px\"></iframe>"
      ],
      "text/plain": [
       "<plotly.tools.PlotlyDisplay object>"
      ]
     },
     "execution_count": 10,
     "metadata": {},
     "output_type": "execute_result"
    }
   ],
   "source": [
    "trace = go.Pie(labels=[publisher.loc[0]['type'], publisher.loc[1]['type'], 'Others'], \n",
    "               values=[publisher.loc[0]['value'], publisher.loc[1]['value'], publisher.loc[2:]['value'].sum()], hole=0.4)\n",
    "layout = go.Layout(\n",
    "    title='Publications Distributions (DC, Marvel and Others)',\n",
    "    height=700,\n",
    "    width=700\n",
    ")\n",
    "data = [trace]\n",
    "fig = go.Figure(data=data, layout=layout)\n",
    "ply.iplot(fig, filename='Comic_wise_distribution(DC, Marvels and others)')"
   ]
  },
  {
   "cell_type": "markdown",
   "metadata": {},
   "source": [
    "### Lets make a gender distribution of super heros"
   ]
  },
  {
   "cell_type": "code",
   "execution_count": 11,
   "metadata": {},
   "outputs": [
    {
     "data": {
      "text/plain": [
       "Male      505\n",
       "Female    200\n",
       "-          29\n",
       "Name: Gender, dtype: int64"
      ]
     },
     "execution_count": 11,
     "metadata": {},
     "output_type": "execute_result"
    }
   ],
   "source": [
    "superhero_info['Gender'].value_counts()"
   ]
  },
  {
   "cell_type": "code",
   "execution_count": 12,
   "metadata": {
    "collapsed": true
   },
   "outputs": [],
   "source": [
    "superhero_info.Gender.replace(to_replace='-', value='Other', inplace=True)"
   ]
  },
  {
   "cell_type": "code",
   "execution_count": 13,
   "metadata": {
    "collapsed": true
   },
   "outputs": [],
   "source": [
    "gender = superhero_info['Gender'].value_counts()"
   ]
  },
  {
   "cell_type": "code",
   "execution_count": 14,
   "metadata": {},
   "outputs": [
    {
     "data": {
      "text/html": [
       "<iframe id=\"igraph\" scrolling=\"no\" style=\"border:none;\" seamless=\"seamless\" src=\"https://plot.ly/~Asutosh989/15.embed\" height=\"500px\" width=\"500px\"></iframe>"
      ],
      "text/plain": [
       "<plotly.tools.PlotlyDisplay object>"
      ]
     },
     "execution_count": 14,
     "metadata": {},
     "output_type": "execute_result"
    }
   ],
   "source": [
    "trace = go.Pie(labels=list(gender.index), \n",
    "               values=list(gender), hole=0.4)\n",
    "layout = go.Layout(\n",
    "    title='Gender wise Distribution',\n",
    "    height=500,\n",
    "    width=500\n",
    ")\n",
    "data = [trace]\n",
    "fig = go.Figure(data=data, layout=layout)\n",
    "ply.iplot(fig, filename='Gender wise')"
   ]
  },
  {
   "cell_type": "markdown",
   "metadata": {},
   "source": [
    "Males seems to dominate the Superheroes universe. "
   ]
  },
  {
   "cell_type": "markdown",
   "metadata": {},
   "source": [
    "### I think Alignment can reveal some more insights"
   ]
  },
  {
   "cell_type": "code",
   "execution_count": 15,
   "metadata": {},
   "outputs": [
    {
     "data": {
      "text/plain": [
       "good       496\n",
       "bad        207\n",
       "neutral     24\n",
       "-            7\n",
       "Name: Alignment, dtype: int64"
      ]
     },
     "execution_count": 15,
     "metadata": {},
     "output_type": "execute_result"
    }
   ],
   "source": [
    "superhero_info['Alignment'].value_counts()"
   ]
  },
  {
   "cell_type": "code",
   "execution_count": 16,
   "metadata": {},
   "outputs": [
    {
     "data": {
      "text/html": [
       "<div>\n",
       "<style>\n",
       "    .dataframe thead tr:only-child th {\n",
       "        text-align: right;\n",
       "    }\n",
       "\n",
       "    .dataframe thead th {\n",
       "        text-align: left;\n",
       "    }\n",
       "\n",
       "    .dataframe tbody tr th {\n",
       "        vertical-align: top;\n",
       "    }\n",
       "</style>\n",
       "<table border=\"1\" class=\"dataframe\">\n",
       "  <thead>\n",
       "    <tr style=\"text-align: right;\">\n",
       "      <th></th>\n",
       "      <th>name</th>\n",
       "      <th>Gender</th>\n",
       "      <th>Eye color</th>\n",
       "      <th>Race</th>\n",
       "      <th>Hair color</th>\n",
       "      <th>Height</th>\n",
       "      <th>Publisher</th>\n",
       "      <th>Skin color</th>\n",
       "      <th>Alignment</th>\n",
       "      <th>Weight</th>\n",
       "    </tr>\n",
       "  </thead>\n",
       "  <tbody>\n",
       "    <tr>\n",
       "      <th>33</th>\n",
       "      <td>Anti-Venom</td>\n",
       "      <td>Male</td>\n",
       "      <td>blue</td>\n",
       "      <td>Symbiote</td>\n",
       "      <td>Blond</td>\n",
       "      <td>229.0</td>\n",
       "      <td>Marvel Comics</td>\n",
       "      <td>-</td>\n",
       "      <td>-</td>\n",
       "      <td>358.0</td>\n",
       "    </tr>\n",
       "    <tr>\n",
       "      <th>110</th>\n",
       "      <td>Blackwulf</td>\n",
       "      <td>Male</td>\n",
       "      <td>red</td>\n",
       "      <td>Alien</td>\n",
       "      <td>White</td>\n",
       "      <td>188.0</td>\n",
       "      <td>Marvel Comics</td>\n",
       "      <td>-</td>\n",
       "      <td>-</td>\n",
       "      <td>88.0</td>\n",
       "    </tr>\n",
       "    <tr>\n",
       "      <th>138</th>\n",
       "      <td>Brundlefly</td>\n",
       "      <td>Male</td>\n",
       "      <td>-</td>\n",
       "      <td>Mutant</td>\n",
       "      <td>-</td>\n",
       "      <td>193.0</td>\n",
       "      <td>NaN</td>\n",
       "      <td>-</td>\n",
       "      <td>-</td>\n",
       "      <td>-99.0</td>\n",
       "    </tr>\n",
       "    <tr>\n",
       "      <th>426</th>\n",
       "      <td>Man of Miracles</td>\n",
       "      <td>Other</td>\n",
       "      <td>blue</td>\n",
       "      <td>God / Eternal</td>\n",
       "      <td>Silver</td>\n",
       "      <td>-99.0</td>\n",
       "      <td>Image Comics</td>\n",
       "      <td>-</td>\n",
       "      <td>-</td>\n",
       "      <td>-99.0</td>\n",
       "    </tr>\n",
       "    <tr>\n",
       "      <th>535</th>\n",
       "      <td>Q</td>\n",
       "      <td>Male</td>\n",
       "      <td>-</td>\n",
       "      <td>God / Eternal</td>\n",
       "      <td>-</td>\n",
       "      <td>-99.0</td>\n",
       "      <td>Star Trek</td>\n",
       "      <td>-</td>\n",
       "      <td>-</td>\n",
       "      <td>-99.0</td>\n",
       "    </tr>\n",
       "    <tr>\n",
       "      <th>676</th>\n",
       "      <td>Trickster</td>\n",
       "      <td>Male</td>\n",
       "      <td>blue</td>\n",
       "      <td>Human</td>\n",
       "      <td>Blond</td>\n",
       "      <td>183.0</td>\n",
       "      <td>DC Comics</td>\n",
       "      <td>-</td>\n",
       "      <td>-</td>\n",
       "      <td>81.0</td>\n",
       "    </tr>\n",
       "    <tr>\n",
       "      <th>692</th>\n",
       "      <td>Venompool</td>\n",
       "      <td>Male</td>\n",
       "      <td>-</td>\n",
       "      <td>Symbiote</td>\n",
       "      <td>-</td>\n",
       "      <td>226.0</td>\n",
       "      <td>Marvel Comics</td>\n",
       "      <td>-</td>\n",
       "      <td>-</td>\n",
       "      <td>-99.0</td>\n",
       "    </tr>\n",
       "  </tbody>\n",
       "</table>\n",
       "</div>"
      ],
      "text/plain": [
       "                name Gender Eye color           Race Hair color  Height  \\\n",
       "33        Anti-Venom   Male      blue       Symbiote      Blond   229.0   \n",
       "110        Blackwulf   Male       red          Alien      White   188.0   \n",
       "138       Brundlefly   Male         -         Mutant          -   193.0   \n",
       "426  Man of Miracles  Other      blue  God / Eternal     Silver   -99.0   \n",
       "535                Q   Male         -  God / Eternal          -   -99.0   \n",
       "676        Trickster   Male      blue          Human      Blond   183.0   \n",
       "692        Venompool   Male         -       Symbiote          -   226.0   \n",
       "\n",
       "         Publisher Skin color Alignment  Weight  \n",
       "33   Marvel Comics          -         -   358.0  \n",
       "110  Marvel Comics          -         -    88.0  \n",
       "138            NaN          -         -   -99.0  \n",
       "426   Image Comics          -         -   -99.0  \n",
       "535      Star Trek          -         -   -99.0  \n",
       "676      DC Comics          -         -    81.0  \n",
       "692  Marvel Comics          -         -   -99.0  "
      ]
     },
     "execution_count": 16,
     "metadata": {},
     "output_type": "execute_result"
    }
   ],
   "source": [
    "superhero_info[superhero_info['Alignment']=='-']"
   ]
  },
  {
   "cell_type": "markdown",
   "metadata": {},
   "source": [
    "** Venom, trickster are not exactly villains rather anti-heros. So I would replace '-' with 'anti-hero' **"
   ]
  },
  {
   "cell_type": "code",
   "execution_count": 17,
   "metadata": {
    "collapsed": true
   },
   "outputs": [],
   "source": [
    "superhero_info.Alignment.replace(to_replace='-', value='anti-hero', inplace=True)"
   ]
  },
  {
   "cell_type": "code",
   "execution_count": 18,
   "metadata": {},
   "outputs": [
    {
     "data": {
      "text/html": [
       "<iframe id=\"igraph\" scrolling=\"no\" style=\"border:none;\" seamless=\"seamless\" src=\"https://plot.ly/~Asutosh989/31.embed\" height=\"500px\" width=\"500px\"></iframe>"
      ],
      "text/plain": [
       "<plotly.tools.PlotlyDisplay object>"
      ]
     },
     "execution_count": 18,
     "metadata": {},
     "output_type": "execute_result"
    }
   ],
   "source": [
    "trace = go.Pie(labels=list(superhero_info['Alignment'].value_counts().index), \n",
    "               values=list(superhero_info['Alignment'].value_counts()), hole=0.4)\n",
    "layout = go.Layout(\n",
    "    title='Alignment of Superheroes',\n",
    "    height=500,\n",
    "    width=500\n",
    ")\n",
    "data = [trace]\n",
    "fig = go.Figure(data=data, layout=layout)\n",
    "ply.iplot(fig, filename='Alignment pie')"
   ]
  },
  {
   "cell_type": "code",
   "execution_count": 19,
   "metadata": {},
   "outputs": [
    {
     "data": {
      "text/html": [
       "<iframe id=\"igraph\" scrolling=\"no\" style=\"border:none;\" seamless=\"seamless\" src=\"https://plot.ly/~Asutosh989/17.embed\" height=\"525px\" width=\"100%\"></iframe>"
      ],
      "text/plain": [
       "<plotly.tools.PlotlyDisplay object>"
      ]
     },
     "execution_count": 19,
     "metadata": {},
     "output_type": "execute_result"
    }
   ],
   "source": [
    "heroes_gender = superhero_info['Gender'].loc[superhero_info['Alignment']=='good'].value_counts()\n",
    "villian_gender = superhero_info['Gender'].loc[superhero_info['Alignment']=='bad'].value_counts()\n",
    "neutral_gender = superhero_info['Gender'].loc[superhero_info['Alignment']=='neutral'].value_counts()\n",
    "anti_hero_gender = superhero_info['Gender'].loc[superhero_info['Alignment']=='anti-hero'].value_counts()\n",
    "\n",
    "fig = {\n",
    "    \"data\": [\n",
    "        {\n",
    "            \"labels\": list(heroes_gender.index), \n",
    "            \"values\": list(heroes_gender/heroes_gender.sum()*100), \n",
    "            \"type\": \"pie\",\n",
    "            \"hole\": 0.4,\n",
    "            \"name\": \"Heroes\",\n",
    "            \"domain\":{'x': [0, 0.48],\n",
    "                      'y': [0.51, 1]},\n",
    "            \"textinfo\": \"label\"\n",
    "        },\n",
    "        {\n",
    "            \"labels\": list(villian_gender.index), \n",
    "            \"values\": list(villian_gender/villian_gender.sum()*100), \n",
    "            \"type\": \"pie\",\n",
    "            \"hole\": 0.4,\n",
    "            \"name\": \"Villians\",\n",
    "            \"domain\":{'x': [0.52, 1],\n",
    "                     'y': [0.51, 1]},\n",
    "            \"textinfo\": \"label\"\n",
    "        },\n",
    "        {\n",
    "            \"labels\": list(neutral_gender.index), \n",
    "            \"values\": list(neutral_gender/neutral_gender.sum()*100), \n",
    "            \"type\": \"pie\",\n",
    "            \"hole\": 0.4,\n",
    "            \"name\": \"Neutral characters\",\n",
    "            \"domain\":{'x': [0, 0.48],\n",
    "                      'y': [0, 0.49]},\n",
    "            \"textinfo\": \"label\"\n",
    "        },\n",
    "        {\n",
    "            \"labels\": list(anti_hero_gender.index), \n",
    "            \"values\": list(anti_hero_gender/anti_hero_gender.sum()*100), \n",
    "            \"type\": \"pie\", \n",
    "            \"hole\": 0.4,\n",
    "            \"name\": \"Anti-hero characters\",\n",
    "            \"domain\":{'x': [0.52, 1],\n",
    "                      'y': [0, 0.49]},\n",
    "            \"textinfo\": \"label\"\n",
    "        }\n",
    "    ],\n",
    "    \"layout\": {\n",
    "        \"title\":\"Gender Distribution (Alignment wise)\",\n",
    "        \"annotations\": [\n",
    "            {\n",
    "                \"font\": {\n",
    "                    \"size\": 20\n",
    "                },\n",
    "                \"showarrow\": False,\n",
    "                \"text\": \"Heroes\",\n",
    "                \"x\": 0,\n",
    "                \"y\": 1\n",
    "            },\n",
    "            {\n",
    "                \"font\": {\n",
    "                    \"size\": 20\n",
    "                },\n",
    "                \"showarrow\": False,\n",
    "                \"text\": \"Villain\",\n",
    "                \"x\": 0.6,\n",
    "                \"y\": 1\n",
    "            },\n",
    "            {\n",
    "                \"font\": {\n",
    "                    \"size\": 20\n",
    "                },\n",
    "                \"showarrow\": False,\n",
    "                \"text\": \"Neutral\",\n",
    "                \"x\": 0,\n",
    "                \"y\": 0.5\n",
    "            },\n",
    "            {\n",
    "                \"font\": {\n",
    "                    \"size\": 20\n",
    "                },\n",
    "                \"showarrow\": False,\n",
    "                \"text\": \"Anti-Hero\",\n",
    "                \"x\": 0.6,\n",
    "                \"y\": 0.5\n",
    "            },\n",
    "        ]\n",
    "    }\n",
    "}\n",
    "\n",
    "\n",
    "ply.iplot(fig, filename='Gender distribution')\n"
   ]
  },
  {
   "cell_type": "markdown",
   "metadata": {},
   "source": [
    "### Distribution of Superheroes by Race"
   ]
  },
  {
   "cell_type": "code",
   "execution_count": 36,
   "metadata": {
    "scrolled": true
   },
   "outputs": [
    {
     "data": {
      "text/plain": [
       "Unknown          304\n",
       "Human            208\n",
       "Mutant            63\n",
       "God / Eternal     14\n",
       "Cyborg            11\n",
       "Name: Race, dtype: int64"
      ]
     },
     "execution_count": 36,
     "metadata": {},
     "output_type": "execute_result"
    }
   ],
   "source": [
    "superhero_info['Race'].value_counts().head()"
   ]
  },
  {
   "cell_type": "code",
   "execution_count": 21,
   "metadata": {
    "collapsed": true
   },
   "outputs": [],
   "source": [
    "superhero_info['Race'].replace(to_replace='-', value='Unknown', inplace=True)"
   ]
  },
  {
   "cell_type": "code",
   "execution_count": 22,
   "metadata": {
    "collapsed": true
   },
   "outputs": [],
   "source": [
    "race_df = superhero_info.loc[~superhero_info['Race'].isin(['Unknown'])]['Race']"
   ]
  },
  {
   "cell_type": "code",
   "execution_count": 23,
   "metadata": {},
   "outputs": [
    {
     "data": {
      "text/html": [
       "<iframe id=\"igraph\" scrolling=\"no\" style=\"border:none;\" seamless=\"seamless\" src=\"https://plot.ly/~Asutosh989/19.embed\" height=\"525px\" width=\"100%\"></iframe>"
      ],
      "text/plain": [
       "<plotly.tools.PlotlyDisplay object>"
      ]
     },
     "execution_count": 23,
     "metadata": {},
     "output_type": "execute_result"
    }
   ],
   "source": [
    "trace = go.Bar(\n",
    "    x=race_df.value_counts().head(20).index,\n",
    "    y=race_df.value_counts().head(20),\n",
    "    name='Races',\n",
    "    marker={\n",
    "        'color': race_df.value_counts().head(20),\n",
    "        'colorscale': 'Viridis'\n",
    "    }\n",
    ")\n",
    "\n",
    "layout = go.Layout(\n",
    "    title='Distribution of heroes across races (Top 20)',\n",
    "    barmode='bar'\n",
    ")\n",
    "\n",
    "fig = go.Figure(data=[trace], layout=layout)\n",
    "ply.iplot(fig, filename='Distribution by Race')\n"
   ]
  },
  {
   "cell_type": "code",
   "execution_count": 24,
   "metadata": {
    "collapsed": true
   },
   "outputs": [],
   "source": [
    "bald_or_not = superhero_info['Hair color'].where(superhero_info['Hair color']==\"No Hair\", other='Hair')"
   ]
  },
  {
   "cell_type": "code",
   "execution_count": 25,
   "metadata": {},
   "outputs": [
    {
     "data": {
      "text/html": [
       "<iframe id=\"igraph\" scrolling=\"no\" style=\"border:none;\" seamless=\"seamless\" src=\"https://plot.ly/~Asutosh989/21.embed\" height=\"525px\" width=\"100%\"></iframe>"
      ],
      "text/plain": [
       "<plotly.tools.PlotlyDisplay object>"
      ]
     },
     "execution_count": 25,
     "metadata": {},
     "output_type": "execute_result"
    }
   ],
   "source": [
    "trace = go.Bar(\n",
    "    x=bald_or_not.value_counts().index,\n",
    "    y=bald_or_not.value_counts(),\n",
    "    name='Bald or Not',\n",
    "    marker={\n",
    "        \"color\":['rgba(0,0,0,0.8)', 'rgba(192,0,192,0.9)']\n",
    "    }\n",
    ")\n",
    "\n",
    "layout = go.Layout(\n",
    "    title='Hair vs No-Hair',\n",
    "    barmode='bar'\n",
    ")\n",
    "\n",
    "fig = go.Figure(data=[trace], layout=layout)\n",
    "ply.iplot(fig, filename='Hair vs No-Hair')"
   ]
  },
  {
   "cell_type": "code",
   "execution_count": 26,
   "metadata": {},
   "outputs": [
    {
     "data": {
      "text/plain": [
       "array(['No Hair', 'Black', 'Blond', 'Brown', '-', 'White', 'Purple',\n",
       "       'Orange', 'Pink', 'Red', 'Auburn', 'Strawberry Blond', 'black',\n",
       "       'Blue', 'Green', 'Magenta', 'Brown / Black', 'Brown / White',\n",
       "       'blond', 'Silver', 'Red / Grey', 'Grey', 'Orange / White',\n",
       "       'Yellow', 'Brownn', 'Gold', 'Red / Orange', 'Indigo',\n",
       "       'Red / White', 'Black / Blue'], dtype=object)"
      ]
     },
     "execution_count": 26,
     "metadata": {},
     "output_type": "execute_result"
    }
   ],
   "source": [
    "superhero_info['Hair color'].unique()"
   ]
  },
  {
   "cell_type": "code",
   "execution_count": 27,
   "metadata": {
    "collapsed": true
   },
   "outputs": [],
   "source": [
    "hair_df = superhero_info.loc[~superhero_info['Hair color'].isin(['No Hair','-'])]['Hair color']"
   ]
  },
  {
   "cell_type": "code",
   "execution_count": 28,
   "metadata": {},
   "outputs": [
    {
     "data": {
      "text/html": [
       "<iframe id=\"igraph\" scrolling=\"no\" style=\"border:none;\" seamless=\"seamless\" src=\"https://plot.ly/~Asutosh989/23.embed\" height=\"525px\" width=\"100%\"></iframe>"
      ],
      "text/plain": [
       "<plotly.tools.PlotlyDisplay object>"
      ]
     },
     "execution_count": 28,
     "metadata": {},
     "output_type": "execute_result"
    }
   ],
   "source": [
    "data = go.Bar(\n",
    "    x=hair_df.value_counts().head(10).index,\n",
    "    y=hair_df.value_counts().head(10),\n",
    "    name='Hair colors',\n",
    "    marker={\n",
    "        'color': hair_df.value_counts().head(10),\n",
    "        'colorscale': 'Viridis'\n",
    "    }\n",
    ")\n",
    "\n",
    "layout = go.Layout(\n",
    "    title='Distribution by Hair Colors',\n",
    "    barmode='bar'\n",
    ")\n",
    "\n",
    "fig = go.Figure(data=[data], layout=layout)\n",
    "ply.iplot(fig, filename='Hair color distribution')"
   ]
  },
  {
   "cell_type": "code",
   "execution_count": 29,
   "metadata": {},
   "outputs": [
    {
     "data": {
      "text/html": [
       "<iframe id=\"igraph\" scrolling=\"no\" style=\"border:none;\" seamless=\"seamless\" src=\"https://plot.ly/~Asutosh989/29.embed\" height=\"750px\" width=\"750px\"></iframe>"
      ],
      "text/plain": [
       "<plotly.tools.PlotlyDisplay object>"
      ]
     },
     "execution_count": 29,
     "metadata": {},
     "output_type": "execute_result"
    }
   ],
   "source": [
    "data = go.Pie(\n",
    "    labels=hair_df.value_counts().head(10).index, \n",
    "    values=hair_df.value_counts().head(10), hole=0.4,\n",
    "    textinfo='value',\n",
    "    marker=dict(colors=[\n",
    "        'rgba(0,0,0,0.8)',\n",
    "        'rgba(243,243,164,0.8)',\n",
    "        'rgba(165,104,42,0.7)',\n",
    "        'rgba(255,0,0,0.9)', \n",
    "        'rgba(255,255,255,1)',\n",
    "        'rgba(165,42,42,0.9)',\n",
    "        'rgba(0,255,0,0.7)',\n",
    "        'rgba(165,88,29,0.7)',\n",
    "        'rgba(128,128,128,0.9)',\n",
    "        'rgba(128,0,128,0.8)', \n",
    "        'rgba(216,210,181,1)', \n",
    "        'rgba(192,192,192,0.5)', \n",
    "        'rgba(0,0,255,0.8)',\n",
    "        'rgba(255,255,0,1)', \n",
    "        'rgba(255,165,0,0.6)',\n",
    "        'rgba(251,223,214,0.8)',\n",
    "        'rgba(75,0,130,1)', \n",
    "        'rgba(60,42,8,1)',\n",
    "        'rgba(255,0,255,1)', \n",
    "        'rgba(116,68,56,1)',\n",
    "        'rgba(20,28,27,1)',\n",
    "        'rgba(255,215,0,0.9)',\n",
    "        'rgba(255,64,0,1)',\n",
    "        'rgba(251,194,123,0.7)',\n",
    "        'rgba(255,192,203,1)',\n",
    "    ],\n",
    "        line=dict(\n",
    "            color='rgb(8,48,107)',\n",
    "            width=0.3))\n",
    ")\n",
    "\n",
    "layout = go.Layout(\n",
    "    title='Distributions by Hair color',\n",
    "    height=750,\n",
    "    width=750\n",
    ")\n",
    "\n",
    "fig = go.Figure(data=[data], layout=layout)\n",
    "ply.iplot(fig, filename='hair color distribution pie chart')"
   ]
  },
  {
   "cell_type": "code",
   "execution_count": 30,
   "metadata": {},
   "outputs": [
    {
     "data": {
      "text/plain": [
       "-                 662\n",
       "green              21\n",
       "blue                9\n",
       "red                 9\n",
       "white               7\n",
       "silver              5\n",
       "grey                5\n",
       "purple              3\n",
       "gold                3\n",
       "pink                2\n",
       "yellow              2\n",
       "blue-white          1\n",
       "gray                1\n",
       "orange / white      1\n",
       "red / black         1\n",
       "black               1\n",
       "orange              1\n",
       "Name: Skin color, dtype: int64"
      ]
     },
     "execution_count": 30,
     "metadata": {},
     "output_type": "execute_result"
    }
   ],
   "source": [
    "superhero_info['Skin color'].value_counts()"
   ]
  },
  {
   "cell_type": "code",
   "execution_count": 31,
   "metadata": {
    "collapsed": true
   },
   "outputs": [],
   "source": [
    "valid_skin_color = superhero_info.loc[~superhero_info['Skin color'].isin(['-'])]['Skin color'].value_counts()"
   ]
  },
  {
   "cell_type": "code",
   "execution_count": 32,
   "metadata": {},
   "outputs": [
    {
     "data": {
      "text/plain": [
       "green             21\n",
       "red                9\n",
       "blue               9\n",
       "white              7\n",
       "silver             5\n",
       "grey               5\n",
       "gold               3\n",
       "purple             3\n",
       "yellow             2\n",
       "pink               2\n",
       "orange / white     1\n",
       "gray               1\n",
       "orange             1\n",
       "black              1\n",
       "red / black        1\n",
       "blue-white         1\n",
       "Name: Skin color, dtype: int64"
      ]
     },
     "execution_count": 32,
     "metadata": {},
     "output_type": "execute_result"
    }
   ],
   "source": [
    "valid_skin_color"
   ]
  },
  {
   "cell_type": "code",
   "execution_count": 33,
   "metadata": {},
   "outputs": [
    {
     "data": {
      "text/html": [
       "<iframe id=\"igraph\" scrolling=\"no\" style=\"border:none;\" seamless=\"seamless\" src=\"https://plot.ly/~Asutosh989/25.embed\" height=\"525px\" width=\"100%\"></iframe>"
      ],
      "text/plain": [
       "<plotly.tools.PlotlyDisplay object>"
      ]
     },
     "execution_count": 33,
     "metadata": {},
     "output_type": "execute_result"
    }
   ],
   "source": [
    "data = go.Bar(\n",
    "    x=valid_skin_color.index,\n",
    "    y=valid_skin_color.head(10),\n",
    "    name='Skin colors',\n",
    "    marker={\n",
    "        'color': valid_skin_color,\n",
    "        'colorscale': 'Viridis'\n",
    "    }\n",
    ")\n",
    "\n",
    "layout = go.Layout(\n",
    "    title='Skin Colors',\n",
    "    barmode='bar'\n",
    ")\n",
    "\n",
    "fig = go.Figure(data=[data], layout=layout)\n",
    "ply.iplot(fig, filename='Skin color distribution')"
   ]
  },
  {
   "cell_type": "code",
   "execution_count": 34,
   "metadata": {},
   "outputs": [
    {
     "data": {
      "text/html": [
       "<iframe id=\"igraph\" scrolling=\"no\" style=\"border:none;\" seamless=\"seamless\" src=\"https://plot.ly/~Asutosh989/27.embed\" height=\"700px\" width=\"700px\"></iframe>"
      ],
      "text/plain": [
       "<plotly.tools.PlotlyDisplay object>"
      ]
     },
     "execution_count": 34,
     "metadata": {},
     "output_type": "execute_result"
    }
   ],
   "source": [
    "data = go.Pie(labels=list(valid_skin_color.index), \n",
    "               values=list(valid_skin_color),hole=0.4,\n",
    "              marker=dict(colors=[\n",
    "            'rgba(34, 226, 20,0.9)',\n",
    "            'rgba(0,0,255,0.8)',\n",
    "            'rgba(255,0,0,1)',\n",
    "            'rgba(255,255,255,0.5)',\n",
    "            'rgba(128,128,128,0.8))', \n",
    "            'rgba(192,192,192,1)', \n",
    "            'rgba(128,0,128,0.8)', \n",
    "            'rgba(255,215,0,1)', \n",
    "            'rgba(255,255,0,0.7)',\n",
    "            'rgba(255,0,0,0.5)',\n",
    "            'rgba(0,255,255,0.6)',\n",
    "            'rgba(255,165,0,0.7)', \n",
    "            'rgba(128,0,0,0.9)',\n",
    "            'rgba(128,128,128,0.6)',\n",
    "            'rgba(255,140,0,0.8)',\n",
    "            'rgba(0,0,0,0.8)',\n",
    "        ],\n",
    "        line=dict(\n",
    "            color='rgb(8,48,107)',\n",
    "            width=0.5))\n",
    "              )\n",
    "layout = go.Layout(\n",
    "    title='Skin Color Distribution',\n",
    "    height=700,\n",
    "    width=700\n",
    ")\n",
    "fig = go.Figure(data=[data], layout=layout)\n",
    "ply.iplot(fig, filename='Skin color pie chart')"
   ]
  },
  {
   "cell_type": "code",
   "execution_count": 48,
   "metadata": {
    "collapsed": true
   },
   "outputs": [],
   "source": [
    "valid_eye = superhero_info.loc[~superhero_info['Eye color'].isin(['-'])]['Eye color'].value_counts()"
   ]
  },
  {
   "cell_type": "code",
   "execution_count": 50,
   "metadata": {},
   "outputs": [
    {
     "data": {
      "application/vnd.plotly.v1+json": {
       "data": [
        {
         "hole": 0.4,
         "labels": [
          "blue",
          "brown",
          "green",
          "red",
          "black",
          "yellow",
          "white",
          "grey",
          "hazel",
          "purple",
          "gold",
          "yellow (without irises)",
          "amber",
          "violet",
          "white / red",
          "indigo",
          "yellow / red",
          "blue / white",
          "green / blue",
          "bown",
          "silver",
          "yellow / blue"
         ],
         "marker": {
          "line": {
           "color": "rgb(8,48,107)",
           "width": 0.5
          }
         },
         "type": "pie",
         "values": [
          225,
          126,
          73,
          46,
          23,
          19,
          17,
          6,
          6,
          4,
          3,
          2,
          2,
          2,
          1,
          1,
          1,
          1,
          1,
          1,
          1,
          1
         ]
        }
       ],
       "layout": {
        "height": 700,
        "title": "Eye Color Distribution",
        "width": 700
       }
      },
      "text/html": [
       "<div id=\"213824c5-2e4d-436b-8326-fc1324e5d4b2\" style=\"height: 700px; width: 700px;\" class=\"plotly-graph-div\"></div><script type=\"text/javascript\">require([\"plotly\"], function(Plotly) { window.PLOTLYENV=window.PLOTLYENV || {};window.PLOTLYENV.BASE_URL=\"https://plot.ly\";Plotly.newPlot(\"213824c5-2e4d-436b-8326-fc1324e5d4b2\", [{\"type\": \"pie\", \"labels\": [\"blue\", \"brown\", \"green\", \"red\", \"black\", \"yellow\", \"white\", \"grey\", \"hazel\", \"purple\", \"gold\", \"yellow (without irises)\", \"amber\", \"violet\", \"white / red\", \"indigo\", \"yellow / red\", \"blue / white\", \"green / blue\", \"bown\", \"silver\", \"yellow / blue\"], \"values\": [225, 126, 73, 46, 23, 19, 17, 6, 6, 4, 3, 2, 2, 2, 1, 1, 1, 1, 1, 1, 1, 1], \"hole\": 0.4, \"marker\": {\"line\": {\"color\": \"rgb(8,48,107)\", \"width\": 0.5}}}], {\"title\": \"Eye Color Distribution\", \"height\": 700, \"width\": 700}, {\"showLink\": true, \"linkText\": \"Export to plot.ly\"})});</script>"
      ],
      "text/vnd.plotly.v1+html": [
       "<div id=\"213824c5-2e4d-436b-8326-fc1324e5d4b2\" style=\"height: 700px; width: 700px;\" class=\"plotly-graph-div\"></div><script type=\"text/javascript\">require([\"plotly\"], function(Plotly) { window.PLOTLYENV=window.PLOTLYENV || {};window.PLOTLYENV.BASE_URL=\"https://plot.ly\";Plotly.newPlot(\"213824c5-2e4d-436b-8326-fc1324e5d4b2\", [{\"type\": \"pie\", \"labels\": [\"blue\", \"brown\", \"green\", \"red\", \"black\", \"yellow\", \"white\", \"grey\", \"hazel\", \"purple\", \"gold\", \"yellow (without irises)\", \"amber\", \"violet\", \"white / red\", \"indigo\", \"yellow / red\", \"blue / white\", \"green / blue\", \"bown\", \"silver\", \"yellow / blue\"], \"values\": [225, 126, 73, 46, 23, 19, 17, 6, 6, 4, 3, 2, 2, 2, 1, 1, 1, 1, 1, 1, 1, 1], \"hole\": 0.4, \"marker\": {\"line\": {\"color\": \"rgb(8,48,107)\", \"width\": 0.5}}}], {\"title\": \"Eye Color Distribution\", \"height\": 700, \"width\": 700}, {\"showLink\": true, \"linkText\": \"Export to plot.ly\"})});</script>"
      ]
     },
     "metadata": {},
     "output_type": "display_data"
    }
   ],
   "source": [
    "data = go.Pie(labels=valid_eye.index, \n",
    "               values=valid_eye,hole=0.4,\n",
    "              marker=dict(\n",
    "        line=dict(\n",
    "            color='rgb(8,48,107)',\n",
    "            width=0.5))\n",
    "              )\n",
    "layout = go.Layout(\n",
    "    title='Eye Color Distribution',\n",
    "    height=700,\n",
    "    width=700\n",
    ")\n",
    "fig = go.Figure(data=[data], layout=layout)\n",
    "py.iplot(fig, filename='Eye color pie chart')"
   ]
  },
  {
   "cell_type": "code",
   "execution_count": null,
   "metadata": {
    "collapsed": true
   },
   "outputs": [],
   "source": []
  }
 ],
 "metadata": {
  "kernelspec": {
   "display_name": "Python 3",
   "language": "python",
   "name": "python3"
  },
  "language_info": {
   "codemirror_mode": {
    "name": "ipython",
    "version": 3
   },
   "file_extension": ".py",
   "mimetype": "text/x-python",
   "name": "python",
   "nbconvert_exporter": "python",
   "pygments_lexer": "ipython3",
   "version": "3.6.7"
  }
 },
 "nbformat": 4,
 "nbformat_minor": 2
}
